{
  "nbformat": 4,
  "nbformat_minor": 0,
  "metadata": {
    "colab": {
      "provenance": []
    },
    "kernelspec": {
      "name": "python3",
      "display_name": "Python 3"
    },
    "language_info": {
      "name": "python"
    }
  },
  "cells": [
    {
      "cell_type": "code",
      "execution_count": 2,
      "metadata": {
        "colab": {
          "base_uri": "https://localhost:8080/",
          "height": 0
        },
        "id": "2TFIhX4xDtQo",
        "outputId": "efc19ead-a53e-4f53-95be-3ddc7784129c"
      },
      "outputs": [
        {
          "output_type": "stream",
          "name": "stdout",
          "text": [
            "Output probabilities for each input:\n",
            "[[0.60233936 0.39766064]\n",
            " [0.18835642 0.81164358]\n",
            " [0.22977988 0.77022012]\n",
            " [0.86709808 0.13290192]]\n",
            "\n",
            "Predictions: [0 1 1 0]\n"
          ]
        }
      ],
      "source": [
        "import numpy as np\n",
        "X = np.array([[0, 0],\n",
        "              [0, 1],\n",
        "              [1, 0],\n",
        "              [1, 1]])\n",
        "y = np.array([[0],\n",
        "              [1],\n",
        "              [1],\n",
        "              [0]])\n",
        "def relu(x):\n",
        "    return np.maximum(0, x)\n",
        "def relu_derivative(x):\n",
        "    return (x > 0).astype(float)\n",
        "def softmax(x):\n",
        "    exp_x = np.exp(x - np.max(x, axis=1, keepdims=True))\n",
        "    return exp_x / np.sum(exp_x, axis=1, keepdims=True)\n",
        "def mse_loss(y_true, y_pred):\n",
        "    return np.mean(np.square(y_true - y_pred))\n",
        "y = np.array([0, 1, 1, 0])\n",
        "input_layer_size = 2\n",
        "hidden_layer_size = 2\n",
        "output_layer_size = 2\n",
        "np.random.seed(42)\n",
        "weights_input_hidden = np.random.randn(input_layer_size, hidden_layer_size)\n",
        "bias_hidden = np.zeros((1, hidden_layer_size))\n",
        "weights_hidden_output = np.random.randn(hidden_layer_size, output_layer_size)\n",
        "bias_output = np.zeros((1, output_layer_size))\n",
        "def feedforward(X):\n",
        "    hidden_input = np.dot(X, weights_input_hidden) + bias_hidden\n",
        "    hidden_output = relu(hidden_input)\n",
        "    output_input = np.dot(hidden_output, weights_hidden_output) + bias_output\n",
        "    output = softmax(output_input)\n",
        "    return hidden_output, output\n",
        "def backpropagation(X, y, learning_rate=0.01):\n",
        "    global weights_input_hidden, bias_hidden, weights_hidden_output, bias_output\n",
        "    hidden_output, output = feedforward(X)\n",
        "    y_one_hot = np.eye(output_layer_size)[y]\n",
        "    output_error = output - y_one_hot\n",
        "    output_delta = output_error\n",
        "    hidden_error = output_delta.dot(weights_hidden_output.T) * relu_derivative(hidden_output)\n",
        "    hidden_delta = hidden_error\n",
        "    weights_hidden_output -= hidden_output.T.dot(output_delta) * learning_rate\n",
        "    bias_output -= np.sum(output_delta, axis=0, keepdims=True) * learning_rate\n",
        "    weights_input_hidden -= X.T.dot(hidden_delta) * learning_rate\n",
        "    bias_hidden -= np.sum(hidden_delta, axis=0, keepdims=True) * learning_rate\n",
        "for _ in range(10000):\n",
        "  backpropagation(X, y, learning_rate=0.001)\n",
        "hidden_output, final_output = feedforward(X)\n",
        "print(\"Output probabilities for each input:\")\n",
        "print(final_output)\n",
        "predictions = np.argmax(final_output, axis=1)\n",
        "print(\"\\nPredictions:\", predictions)\n"
      ]
    }
  ]
}