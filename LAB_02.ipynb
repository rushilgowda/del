{
  "nbformat": 4,
  "nbformat_minor": 0,
  "metadata": {
    "colab": {
      "provenance": []
    },
    "kernelspec": {
      "name": "python3",
      "display_name": "Python 3"
    },
    "language_info": {
      "name": "python"
    }
  },
  "cells": [
    {
      "cell_type": "code",
      "execution_count": 1,
      "metadata": {
        "colab": {
          "base_uri": "https://localhost:8080/"
        },
        "id": "Eby1UMmpCdxk",
        "outputId": "2c69403e-4ed0-4410-905a-4519442b0996"
      },
      "outputs": [
        {
          "output_type": "stream",
          "name": "stdout",
          "text": [
            "Accuracy: 100.00%\n",
            "Bias (x0): 7.170298457736977\n",
            "Weights: [-14.75517843  11.8946738 ]\n",
            "Predicted class for the new input [3.4, 5.7]: 1\n"
          ]
        }
      ],
      "source": [
        "import pandas as pd\n",
        "import numpy as np\n",
        "def sigmoid(x):\n",
        "    return 1 / (1 + np.exp(-x))\n",
        "def step_function(y_prob):\n",
        "    return 1 if y_prob >= 0.5 else 0\n",
        "def predict(X, weights):\n",
        "    z = np.dot(X, weights)\n",
        "    return sigmoid(z)\n",
        "def binary_output(y_prob):\n",
        "    return [step_function(y) for y in y_prob]\n",
        "def train_perceptron(X, y, learning_rate=0.01):\n",
        "    X = np.insert(X, 0, 1, axis=1)\n",
        "    weights = np.zeros(X.shape[1])\n",
        "    flag = False\n",
        "    while not flag:\n",
        "        flag = True\n",
        "        for i in range(len(X)):\n",
        "            z = np.dot(X[i], weights)\n",
        "            y_pred = sigmoid(z)\n",
        "            error = y[i] - y_pred\n",
        "            if (y[i] == 1 and y_pred < 0.5) or (y[i] == 0 and y_pred >= 0.5):\n",
        "                flag = False\n",
        "                weights += learning_rate * error * X[i]\n",
        "    return weights\n",
        "def evaluate(X, y, weights):\n",
        "    X = np.insert(X, 0, 1, axis=1)\n",
        "    y_prob = predict(X, weights)\n",
        "    y_pred = binary_output(y_prob)\n",
        "    accuracy = np.mean(y_pred == y)\n",
        "    return accuracy\n",
        "def classify_new_input(new_input, weights):\n",
        "    new_input = np.array(new_input)\n",
        "    new_input_with_bias = np.insert(new_input, 0, 1)\n",
        "    y_prob = sigmoid(np.dot(new_input_with_bias, weights))\n",
        "    return step_function(y_prob)\n",
        "data = pd.read_csv(\"data.csv\")\n",
        "y = data.iloc[:, 0].values\n",
        "X = data.iloc[:, 1:].values\n",
        "learning_rate = 0.5\n",
        "weights = train_perceptron(X, y, learning_rate)\n",
        "accuracy = evaluate(X, y, weights)\n",
        "bias = weights[0]\n",
        "feature_weights = weights[1:]\n",
        "print(f\"Accuracy: {accuracy * 100:.2f}%\")\n",
        "print(f\"Bias (x0): {bias}\")\n",
        "print(f\"Weights: {feature_weights}\")\n",
        "new_input = [3.4, 5.7]\n",
        "predicted_class = classify_new_input(new_input, weights)\n",
        "print(f\"Predicted class for the new input {new_input}: {predicted_class}\")\n"
      ]
    }
  ]
}